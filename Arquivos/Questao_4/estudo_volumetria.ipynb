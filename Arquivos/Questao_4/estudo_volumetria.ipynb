{
 "cells": [
  {
   "cell_type": "code",
   "execution_count": 2,
   "metadata": {},
   "outputs": [],
   "source": [
    "import pandas as pd"
   ]
  },
  {
   "cell_type": "markdown",
   "metadata": {},
   "source": [
    "Estado de Minas Gerais"
   ]
  },
  {
   "cell_type": "code",
   "execution_count": 8,
   "metadata": {},
   "outputs": [],
   "source": [
    "#função para leitura do arquivo e criação do dataframe \n",
    "\n",
    "def cria_dataframe(path):\n",
    "     return pd.DataFrame(pd.read_csv(f'{path}', sep=';', encoding='latin-1'))\n",
    " \n",
    "def analise_volumetria(dataframe):\n",
    "    return dataframe.shape[0]\n"
   ]
  },
  {
   "cell_type": "markdown",
   "metadata": {},
   "source": [
    "Volumetria Bem Candidato"
   ]
  },
  {
   "cell_type": "code",
   "execution_count": 17,
   "metadata": {},
   "outputs": [
    {
     "data": {
      "text/plain": [
       "152734"
      ]
     },
     "execution_count": 17,
     "metadata": {},
     "output_type": "execute_result"
    }
   ],
   "source": [
    "#Leitura do arquivo\n",
    "path='C:\\\\Users\\\\Acer\\\\Documents\\\\modelagem_dados_pos\\\\bem_candidato\\\\bem_candidato_2024_MG.csv'\n",
    "df_bem_candidato=cria_dataframe(path)\n",
    "df_bem_candidato.shape[0]\n",
    "\n",
    "#volumetria : 152734"
   ]
  },
  {
   "cell_type": "markdown",
   "metadata": {},
   "source": [
    "Volumetria Motivacao Cassacao"
   ]
  },
  {
   "cell_type": "code",
   "execution_count": null,
   "metadata": {},
   "outputs": [
    {
     "data": {
      "text/plain": [
       "1400"
      ]
     },
     "execution_count": 18,
     "metadata": {},
     "output_type": "execute_result"
    }
   ],
   "source": [
    "#Leitura do arquivo\n",
    "\n",
    "path='C:\\\\Users\\\\Acer\\\\Documents\\\\modelagem_dados_pos\\\\motivo_cassacao\\\\motivo_cassacao_2024_MG.csv'\n",
    "motivo_cassacao=cria_dataframe(path)\n",
    "motivo_cassacao.shape[0]\n",
    "\n",
    "#volumetria : 1400"
   ]
  },
  {
   "cell_type": "markdown",
   "metadata": {},
   "source": [
    "Volumetria Rede Social"
   ]
  },
  {
   "cell_type": "code",
   "execution_count": null,
   "metadata": {},
   "outputs": [
    {
     "data": {
      "text/plain": [
       "46776"
      ]
     },
     "execution_count": 21,
     "metadata": {},
     "output_type": "execute_result"
    }
   ],
   "source": [
    "#Leitura do arquivo\n",
    "\n",
    "path='C:\\\\Users\\\\Acer\\\\Documents\\\\modelagem_dados_pos\\\\rede_social_candidato\\\\rede_social_candidato_2024_MG.csv'\n",
    "rede_social_candidato=cria_dataframe(path)\n",
    "rede_social_candidato.shape[0]\n",
    "\n",
    "#volumetria : 46776"
   ]
  },
  {
   "cell_type": "markdown",
   "metadata": {},
   "source": [
    "Volumetria Votação Nominal Município"
   ]
  },
  {
   "cell_type": "code",
   "execution_count": null,
   "metadata": {},
   "outputs": [
    {
     "data": {
      "text/plain": [
       "93425"
      ]
     },
     "execution_count": 19,
     "metadata": {},
     "output_type": "execute_result"
    }
   ],
   "source": [
    "#Leitura do arquivo\n",
    "\n",
    "path='C:\\\\Users\\\\Acer\\\\Documents\\\\modelagem_dados_pos\\\\votacao_nominal_municipio_zona\\\\votacao_candidato_munzona_2024_MG.csv'\n",
    "votacao_candidato_munzona=cria_dataframe(path)\n",
    "votacao_candidato_munzona.shape[0]\n",
    "\n",
    "#volumetria = 93425"
   ]
  },
  {
   "cell_type": "markdown",
   "metadata": {},
   "source": [
    "Volumetria Candidato\n",
    "\n",
    "A tabela candidato foi gerada e normalizada utilizando técnicas da primeira, segunda e terceira forma normal. Ao analisar será levado em consideração a tabela votação e através dele será calculado a volumetria quando a coluna CD_ELEICAO for igual a 1 e ANO_ELEICAO igual a 2024, garantindo que a base está correta."
   ]
  },
  {
   "cell_type": "code",
   "execution_count": null,
   "metadata": {},
   "outputs": [
    {
     "data": {
      "text/plain": [
       "93383"
      ]
     },
     "execution_count": 28,
     "metadata": {},
     "output_type": "execute_result"
    }
   ],
   "source": [
    "candidato = votacao_candidato_munzona[votacao_candidato_munzona['NR_TURNO'] == 1 ] \n",
    "candidato = candidato[candidato['ANO_ELEICAO']==2024]\n",
    "candidato.drop_duplicates()\n",
    "candidato.shape[0]\n",
    "\n",
    "volumetria = 93383"
   ]
  }
 ],
 "metadata": {
  "kernelspec": {
   "display_name": "venv",
   "language": "python",
   "name": "python3"
  },
  "language_info": {
   "codemirror_mode": {
    "name": "ipython",
    "version": 3
   },
   "file_extension": ".py",
   "mimetype": "text/x-python",
   "name": "python",
   "nbconvert_exporter": "python",
   "pygments_lexer": "ipython3",
   "version": "3.12.7"
  }
 },
 "nbformat": 4,
 "nbformat_minor": 2
}
